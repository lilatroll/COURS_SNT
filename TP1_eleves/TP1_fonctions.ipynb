{
 "cells": [
  {
   "cell_type": "code",
   "execution_count": null,
   "id": "a1af0dc9",
   "metadata": {},
   "outputs": [],
   "source": [
    "from outils import* # import des outils nécessaires au notebook"
   ]
  },
  {
   "cell_type": "markdown",
   "id": "219302fc",
   "metadata": {},
   "source": [
    "<h1> <span style=\"font-weight: bold;color:red;\">III - <u>Les fonctions informatiques</u></span> </h1><br>\n",
    "<br>\n",
    "<img src=\"mes_images/ex7a.PNG\"><br>\n",
    "<br>\n",
    "<span style=\"color:green;\"><strong> <i><u>Exercice 7</u> :</i> </strong></span><br>\n",
    "La surface $S$ de la peau d'un adulte est donnée approximativement par la formule $S = \\frac{\\sqrt{L\\times M}}{6}$ où :<br>\n",
    "• $L$ est la taille de la personne exprimée en m,<br>\n",
    "• $M$ est sa masse exprimée en kg.<br>\n",
    "Pour programmer ce calcul, on peut définir une fonction <span style=\"font-weight: bold;\">surface</span> qui aura pour paramètres <span style=\"font-weight: bold;\">L</span> et <span style=\"font-weight: bold;\">M</span>.<br>\n",
    "Complétez l'algorithme en langage Python.<br>\n",
    "<img src=\"mes_images/ex7a.png\"><br>\n"
   ]
  },
  {
   "cell_type": "code",
   "execution_count": null,
   "id": "ec68d59e",
   "metadata": {},
   "outputs": [],
   "source": [
    "# à compléter"
   ]
  },
  {
   "cell_type": "markdown",
   "id": "66b3d4fc",
   "metadata": {},
   "source": [
    "Qu'obtient-on en sortie ?<br>\n"
   ]
  },
  {
   "cell_type": "code",
   "execution_count": null,
   "id": "29f4b1ce",
   "metadata": {},
   "outputs": [],
   "source": [
    "solution.ex7()"
   ]
  },
  {
   "cell_type": "markdown",
   "id": "503af5d1",
   "metadata": {},
   "source": [
    "<span style=\"color:green;\"><strong> <i><u>Exercice 8</u> :</i> </strong></span><br>\n",
    "1) Soit <span style=\"font-weight: bold;\">f</span> la fonction programmée ci-dessous en langage Python.<br>\n"
   ]
  },
  {
   "cell_type": "code",
   "execution_count": null,
   "id": "aa84e2ce",
   "metadata": {},
   "outputs": [],
   "source": [
    "def f(x):\n",
    "    return 3*x-1"
   ]
  },
  {
   "cell_type": "code",
   "execution_count": null,
   "id": "649e621b",
   "metadata": {},
   "outputs": [],
   "source": [
    "question.ex8_1_a()"
   ]
  },
  {
   "cell_type": "code",
   "execution_count": null,
   "id": "d90b1e44",
   "metadata": {},
   "outputs": [],
   "source": [
    "question.ex8_1_b()"
   ]
  },
  {
   "cell_type": "markdown",
   "id": "ba0ec47e",
   "metadata": {},
   "source": [
    "c) Que permet de faire cette fonction ?<br>\n"
   ]
  },
  {
   "cell_type": "code",
   "execution_count": null,
   "id": "f1326d1e",
   "metadata": {},
   "outputs": [],
   "source": [
    "#à compléter"
   ]
  },
  {
   "cell_type": "code",
   "execution_count": null,
   "id": "326c6164",
   "metadata": {},
   "outputs": [],
   "source": [
    "solution.ex8_1_c()"
   ]
  },
  {
   "cell_type": "markdown",
   "id": "f7d9c736",
   "metadata": {},
   "source": [
    "2) On a programmé une nouvelle fonction nommée <span style=\"font-weight: bold;\">affine</span> ci-dessous.<br>\n"
   ]
  },
  {
   "cell_type": "code",
   "execution_count": null,
   "id": "d5b98b53",
   "metadata": {},
   "outputs": [],
   "source": [
    "def affine(m,p,x):\n",
    "    return m*x+p\n",
    "print(affine(1,2,3))"
   ]
  },
  {
   "cell_type": "code",
   "execution_count": null,
   "id": "fa4686a0",
   "metadata": {},
   "outputs": [],
   "source": [
    "question.ex8_2_a()"
   ]
  },
  {
   "cell_type": "code",
   "execution_count": null,
   "id": "4d4b29cd",
   "metadata": {},
   "outputs": [],
   "source": [
    "question.ex8_2_b()"
   ]
  },
  {
   "cell_type": "markdown",
   "id": "a9ca4000",
   "metadata": {},
   "source": [
    "c) Comment peut-on afficher avec cette fonction l'image du nombre 4 par la fonction numérique qui à $x$ associe $-5x+2$ ?<br>\n"
   ]
  },
  {
   "cell_type": "code",
   "execution_count": null,
   "id": "ed1a993b",
   "metadata": {},
   "outputs": [],
   "source": [
    "#à compléter"
   ]
  },
  {
   "cell_type": "code",
   "execution_count": null,
   "id": "cc2bc4e3",
   "metadata": {},
   "outputs": [],
   "source": [
    "solution.ex8_2_c()"
   ]
  },
  {
   "cell_type": "markdown",
   "id": "8d6a4d55",
   "metadata": {},
   "source": [
    "<span style=\"font-style: italic;color:grey;\"><u>Remarque</u> :</span><br>\n",
    "• Les entrées d'une fonction se font en donnant des valeurs aux <span style=\"font-weight: bold;\">arguments</span> (ou <span style=\"font-weight: bold;\">paramètres</span>).<br>\n",
    "• On peut utiliser l'instruction  <span style=\"font-weight: bold;\">print()</span> dans une fonction. Contrairement à l'instruction <span style=\"font-weight: bold;\">return()</span>, le programme continue après <br>\n",
    "<span style=\"font-weight: bold;\">print()</span> alors qu'il s'arrête après avoir rencontré <span style=\"font-weight: bold;\">return()</span>.<br>\n",
    "• Une fonction peut être appelée dans un programme ou dans une autre fonction. Ainsi, les fonctions permettent d'<span style=\"font-weight: bold;\">éviter les redondances</span> <br>\n",
    "et de <span style=\"font-weight: bold;\">structurer les programmes</span>.<br>\n",
    "<br>\n",
    "<span style=\"color:green;\"><strong> <i><u>Exercice 9</u> :</i> </strong></span><br>\n",
    "En utilisant l'une des fonctions proposées ci-desssous, complétez l'algorithme pour afficher le résultat arrondi au centième près.<br>\n",
    "<br>\n",
    "<img src=\"mes_images/ex7c.png\"><br>\n"
   ]
  },
  {
   "cell_type": "markdown",
   "id": "068363d3",
   "metadata": {},
   "source": [
    "<span style=\"text-decoration: underline;font-weight: bold;font-style: italic;color:green;\">Exercice 10</span><span style=\"font-weight: bold;font-style: italic;\"> :</span><br>\n",
    "On considère la fonction suivante.<br>\n"
   ]
  },
  {
   "cell_type": "code",
   "execution_count": null,
   "id": "c4181705",
   "metadata": {},
   "outputs": [],
   "source": [
    "def speed(distance,temps):\n",
    "    return distance/temps"
   ]
  },
  {
   "cell_type": "code",
   "execution_count": null,
   "id": "4c0af0ff",
   "metadata": {},
   "outputs": [],
   "source": [
    "question.ex10_a()"
   ]
  },
  {
   "cell_type": "code",
   "execution_count": null,
   "id": "885e5b67",
   "metadata": {},
   "outputs": [],
   "source": [
    "question.ex10_b()"
   ]
  },
  {
   "cell_type": "code",
   "execution_count": null,
   "id": "74292127",
   "metadata": {},
   "outputs": [],
   "source": [
    "question.ex10_c()"
   ]
  },
  {
   "cell_type": "markdown",
   "id": "87460ed2",
   "metadata": {},
   "source": [
    "<span style=\"color:green;\"><strong> <i><u>Exercice 11</u> :</i> </strong></span><br>\n",
    "On considère la fonction suivante.<br>\n"
   ]
  },
  {
   "cell_type": "code",
   "execution_count": null,
   "id": "778d061a",
   "metadata": {},
   "outputs": [],
   "source": [
    "def sale(prix,t):\n",
    "    somme=prix*(1-t/100)\n",
    "    return somme"
   ]
  },
  {
   "cell_type": "code",
   "execution_count": null,
   "id": "21f55a5e",
   "metadata": {},
   "outputs": [],
   "source": [
    "question.ex11_a()"
   ]
  },
  {
   "cell_type": "code",
   "execution_count": null,
   "id": "38da7dba",
   "metadata": {},
   "outputs": [],
   "source": [
    "question.ex11_b()"
   ]
  },
  {
   "cell_type": "code",
   "execution_count": null,
   "id": "b77e4de4",
   "metadata": {},
   "outputs": [],
   "source": [
    "question.ex11_c()"
   ]
  },
  {
   "cell_type": "markdown",
   "id": "e5f9c484",
   "metadata": {},
   "source": [
    "d) On a écrit dans la console l'instruction suivante et obtenu le résultat qui suit. <br>\n",
    "<img src=\"mes_images/ex11d.jpg\"><br>\n",
    "Interprétez le résultat obtenu.<br>\n"
   ]
  },
  {
   "cell_type": "code",
   "execution_count": null,
   "id": "a1ffbece",
   "metadata": {},
   "outputs": [],
   "source": [
    "#à compléter"
   ]
  },
  {
   "cell_type": "code",
   "execution_count": null,
   "id": "c893ea23",
   "metadata": {},
   "outputs": [],
   "source": [
    "solution.ex11_d()"
   ]
  },
  {
   "cell_type": "markdown",
   "id": "07234504",
   "metadata": {},
   "source": [
    "<span style=\"color:green;\"><strong> <i><u>Exercice 12</u> :</i> </strong></span><br>\n",
    "On considère la fonction suivante.<br>\n"
   ]
  },
  {
   "cell_type": "code",
   "execution_count": null,
   "id": "c5f6442c",
   "metadata": {},
   "outputs": [],
   "source": [
    "def parite(n):\n",
    "    return n%2==0"
   ]
  },
  {
   "cell_type": "markdown",
   "id": "7972d22d",
   "metadata": {},
   "source": [
    "On a écrit dans la console les instructions suivantes et obtenu les résultats qui suivent.<br>\n",
    "<img src=\"mes_images/ex12.jpg\"><br>\n"
   ]
  },
  {
   "cell_type": "code",
   "execution_count": null,
   "id": "6328e498",
   "metadata": {},
   "outputs": [],
   "source": [
    "question.ex12_a()"
   ]
  },
  {
   "cell_type": "code",
   "execution_count": null,
   "id": "0a358c0e",
   "metadata": {},
   "outputs": [],
   "source": [
    "question.ex12_b()"
   ]
  },
  {
   "cell_type": "code",
   "execution_count": null,
   "id": "0af99fcd",
   "metadata": {},
   "outputs": [],
   "source": [
    "question.ex12_c()"
   ]
  },
  {
   "cell_type": "markdown",
   "id": "8d408962",
   "metadata": {},
   "source": [
    "d) Quel est le rôle de cette fonction ?<br>\n"
   ]
  },
  {
   "cell_type": "code",
   "execution_count": null,
   "id": "b2ff4c2a",
   "metadata": {},
   "outputs": [],
   "source": [
    "#à compléter"
   ]
  },
  {
   "cell_type": "code",
   "execution_count": null,
   "id": "7fc0e5eb",
   "metadata": {},
   "outputs": [],
   "source": [
    "solution.ex12_d()"
   ]
  },
  {
   "cell_type": "markdown",
   "id": "d654d06b",
   "metadata": {},
   "source": [
    "<span style=\"color:green;\"><strong> <i><u>Exercice 13</u> :</i> </strong></span><br>\n",
    "Rédigez une fonction renvoyant le périmètre et l'aire d'un disque de rayon donné.<br>\n"
   ]
  },
  {
   "cell_type": "code",
   "execution_count": null,
   "id": "3d251bb8",
   "metadata": {},
   "outputs": [],
   "source": [
    "#à compléter"
   ]
  },
  {
   "cell_type": "code",
   "execution_count": null,
   "id": "df1c3a83",
   "metadata": {},
   "outputs": [],
   "source": [
    "solution.ex13_a()"
   ]
  },
  {
   "cell_type": "code",
   "execution_count": null,
   "id": "af64ff62",
   "metadata": {},
   "outputs": [],
   "source": [
    "solution.ex13_b()"
   ]
  },
  {
   "cell_type": "markdown",
   "id": "b409e133",
   "metadata": {},
   "source": [
    "créer une variable 'age'<br>\n",
    "créer une variable <span style=\"font-family:Courier New;font-size: 100%;\">age</span><br>\n",
    "recopier le code suivant<br>\n",
    "<code>age=input(\"ton âge ?\")<br>if age>18 :<br>&nbsp;&nbsp;&nbsp;&nbsp;print(\"majeur\")<br>else:<br>&nbsp;&nbsp;&nbsp;&nbsp;print(\"mineur\")<br></code><br>\n",
    "<span style=\"text-decoration: underline;color:green;\">insertion d'une image</span><span style=\"color:green;\"> :</span><br>\n",
    "<img src = \"mes_images/ex7a.png\" width= \"100px\"><br>\n"
   ]
  },
  {
   "cell_type": "markdown",
   "id": "cb502d00",
   "metadata": {},
   "source": [
    "# <div style = \"text-align : center;\"><span style=\"border: 2px solid;padding:6px;color:red;\">bonjour</span></div> # \n",
    "\n",
    "## bonjour ##\n",
    "### bonjour ###\n",
    "## <span style=\"text-decoration: underline;color:red;\">I. Généralités</span> ##\n",
    "### <span style=\"text-decoration: underline;color:green;\">1. Fonctions</span> ###\n",
    "#### <span style=\"text-decoration: underline;color:blue;\">a. définition</span> ####\n"
   ]
  }
 ],
 "metadata": {},
 "nbformat": 4,
 "nbformat_minor": 5
}
