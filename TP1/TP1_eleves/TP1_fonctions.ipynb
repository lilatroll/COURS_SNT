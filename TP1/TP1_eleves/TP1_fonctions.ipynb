{
 "cells": [
  {
   "cell_type": "code",
   "execution_count": null,
   "metadata": {},
   "outputs": [],
   "source": [
    "from outils import* # import des outils nécessaires au notebook"
   ]
  },
  {
   "cell_type": "markdown",
   "metadata": {},
   "source": [
    "<h1> <span style=\"font-weight: bold;color:red;\">III - <u>Les fonctions informatiques</u></span> </h1><br>\n",
    "<br>\n",
    "<img src=\"https://capytale2.ac-paris.fr/web/sites/default/files/2022/10-21/9-50-52/ex7a.PNG\"><br>\n",
    "<br>\n",
    "<span style=\"color:green;\"><strong> <i><u>Exercice 7</u> :</i> </strong></span><br>\n",
    "La surface $S$ de la peau d'un adulte est donnée approximativement par la formule $S = \\frac{\\sqrt{L\\times M}}{6}$ où :<br>\n",
    "• $L$ est la taille de la personne exprimée en m,<br>\n",
    "• $M$ est sa masse exprimée en kg.<br>\n",
    "Pour programmer ce calcul, on peut définir une fonction <span style=\"font-weight: bold;\">surface</span> qui aura pour paramètres <span style=\"font-weight: bold;\">L</span> et <span style=\"font-weight: bold;\">M</span>.<br>\n",
    "Complétez l'algorithme en langage Python.<br>\n",
    "<img src=\"mes_images/ex7a.png\"><br>\n"
   ]
  },
  {
   "cell_type": "code",
   "execution_count": null,
   "metadata": {},
   "outputs": [],
   "source": [
    "# à compléter"
   ]
  },
  {
   "cell_type": "markdown",
   "metadata": {},
   "source": [
    "Qu'obtient-on en sortie ?<br>\n"
   ]
  },
  {
   "cell_type": "code",
   "execution_count": null,
   "metadata": {},
   "outputs": [],
   "source": [
    "solution.ex7()"
   ]
  },
  {
   "cell_type": "markdown",
   "metadata": {},
   "source": [
    "<span style=\"color:green;\"><strong> <i><u>Exercice 8</u> :</i> </strong></span><br>\n",
    "1) Soit <span style=\"font-weight: bold;\">f</span> la fonction programmée ci-dessous en langage Python.<br>\n"
   ]
  },
  {
   "cell_type": "code",
   "execution_count": null,
   "metadata": {},
   "outputs": [],
   "source": [
    "def f(x):\n",
    "    return 3*x-1"
   ]
  },
  {
   "cell_type": "code",
   "execution_count": null,
   "metadata": {},
   "outputs": [],
   "source": [
    "question.ex8_1_a()"
   ]
  },
  {
   "cell_type": "code",
   "execution_count": null,
   "metadata": {},
   "outputs": [],
   "source": [
    "question.ex8_1_b()"
   ]
  },
  {
   "cell_type": "markdown",
   "metadata": {},
   "source": [
    "c) Que permet de faire cette fonction ?<br>\n"
   ]
  },
  {
   "cell_type": "code",
   "execution_count": null,
   "metadata": {},
   "outputs": [],
   "source": [
    "#à compléter"
   ]
  },
  {
   "cell_type": "code",
   "execution_count": null,
   "metadata": {},
   "outputs": [],
   "source": [
    "solution.ex8_1_c()"
   ]
  },
  {
   "cell_type": "markdown",
   "metadata": {},
   "source": [
    "2) On a programmé une nouvelle fonction nommée <span style=\"font-weight: bold;\">affine</span> ci-dessous.<br>\n"
   ]
  },
  {
   "cell_type": "code",
   "execution_count": null,
   "metadata": {},
   "outputs": [],
   "source": [
    "def affine(m,p,x):\n",
    "    return m*x+p\n",
    "print(affine(1,2,3))"
   ]
  },
  {
   "cell_type": "code",
   "execution_count": null,
   "metadata": {},
   "outputs": [],
   "source": [
    "question.ex8_2_a()"
   ]
  },
  {
   "cell_type": "code",
   "execution_count": null,
   "metadata": {},
   "outputs": [],
   "source": [
    "question.ex8_2_b()"
   ]
  },
  {
   "cell_type": "markdown",
   "metadata": {},
   "source": [
    "c) Comment peut-on afficher avec cette fonction l'image du nombre 4 par la fonction numérique qui à $x$ associe $-5x+2$ ?<br>\n"
   ]
  },
  {
   "cell_type": "code",
   "execution_count": null,
   "metadata": {},
   "outputs": [],
   "source": [
    "#à compléter"
   ]
  },
  {
   "cell_type": "code",
   "execution_count": null,
   "metadata": {},
   "outputs": [],
   "source": [
    "solution.ex8_2_c()"
   ]
  },
  {
   "cell_type": "markdown",
   "metadata": {},
   "source": [
    "<span style=\"font-style: italic;color:grey;\"><u>Remarque</u> :</span><br>\n",
    "• Les entrées d'une fonction se font en donnant des valeurs aux <span style=\"font-weight: bold;\">arguments</span> (ou <span style=\"font-weight: bold;\">paramètres</span>).<br>\n",
    "• On peut utiliser l'instruction  <span style=\"font-weight: bold;\">print()</span> dans une fonction. Contrairement à l'instruction <span style=\"font-weight: bold;\">return()</span>, le programme continue après <br>\n",
    "<span style=\"font-weight: bold;\">print()</span> alors qu'il s'arrête après avoir rencontré <span style=\"font-weight: bold;\">return()</span>.<br>\n",
    "• Une fonction peut être appelée dans un programme ou dans une autre fonction. Ainsi, les fonctions permettent d'<span style=\"font-weight: bold;\">éviter les redondances</span> <br>\n",
    "et de <span style=\"font-weight: bold;\">structurer les programmes</span>.<br>\n",
    "<br>\n",
    "<span style=\"color:green;\"><strong> <i><u>Exercice 9</u> :</i> </strong></span><br>\n",
    "En utilisant l'une des fonctions proposées ci-desssous, complétez l'algorithme pour afficher le résultat arrondi au centième près.<br>\n",
    "<br>\n",
    "![alt text](mes_images/ex7c.png \"fonctions diverses\")<br>\n"
   ]
  },
  {
   "cell_type": "markdown",
   "metadata": {},
   "source": [
    "<span style=\"text-decoration: underline;font-weight: bold;font-style: italic;color:green;\">Exercice 10</span><span style=\"font-weight: bold;font-style: italic;\"> :</span><br>\n",
    "On considère la fonction suivante.<br>\n"
   ]
  },
  {
   "cell_type": "code",
   "execution_count": null,
   "metadata": {},
   "outputs": [],
   "source": [
    "def speed(distance,temps):\n",
    "    return distance/temps"
   ]
  },
  {
   "cell_type": "code",
   "execution_count": null,
   "metadata": {},
   "outputs": [],
   "source": [
    "question.ex10_a()"
   ]
  },
  {
   "cell_type": "code",
   "execution_count": null,
   "metadata": {},
   "outputs": [],
   "source": [
    "question.ex10_b()"
   ]
  },
  {
   "cell_type": "code",
   "execution_count": null,
   "metadata": {},
   "outputs": [],
   "source": [
    "question.ex10_c()"
   ]
  },
  {
   "cell_type": "markdown",
   "metadata": {},
   "source": [
    "<span style=\"color:green;\"><strong> <i><u>Exercice 11</u> :</i> </strong></span><br>\n",
    "On considère la fonction suivante.<br>\n"
   ]
  },
  {
   "cell_type": "code",
   "execution_count": null,
   "metadata": {},
   "outputs": [],
   "source": [
    "def sale(prix,t):\n",
    "    somme=prix*(1-t/100)\n",
    "    return somme"
   ]
  },
  {
   "cell_type": "code",
   "execution_count": null,
   "metadata": {},
   "outputs": [],
   "source": [
    "question.ex11_a()"
   ]
  },
  {
   "cell_type": "code",
   "execution_count": null,
   "metadata": {},
   "outputs": [],
   "source": [
    "question.ex11_b()"
   ]
  },
  {
   "cell_type": "code",
   "execution_count": null,
   "metadata": {},
   "outputs": [],
   "source": [
    "question.ex11_c()"
   ]
  },
  {
   "cell_type": "markdown",
   "metadata": {},
   "source": [
    "d) On a écrit dans la console l'instruction suivante et obtenu le résultat qui suit. <br>\n",
    "![alt text](mes_images/ex11d.jpg \"fonction sale\")<br>\n",
    "Interprétez le résultat obtenu.<br>\n"
   ]
  },
  {
   "cell_type": "code",
   "execution_count": null,
   "metadata": {},
   "outputs": [],
   "source": [
    "#à compléter"
   ]
  },
  {
   "cell_type": "code",
   "execution_count": null,
   "metadata": {},
   "outputs": [],
   "source": [
    "solution.ex11_d()"
   ]
  },
  {
   "cell_type": "markdown",
   "metadata": {},
   "source": [
    "<span style=\"color:green;\"><strong> <i><u>Exercice 12</u> :</i> </strong></span><br>\n",
    "On considère la fonction suivante.<br>\n"
   ]
  },
  {
   "cell_type": "code",
   "execution_count": null,
   "metadata": {},
   "outputs": [],
   "source": [
    "def parite(n):\n",
    "    return n%2==0"
   ]
  },
  {
   "cell_type": "markdown",
   "metadata": {},
   "source": [
    "On a écrit dans la console les instructions suivantes et obtenu les résultats qui suivent.<br>\n",
    "<img src=\"mes_images/ex12.jpg\"><br>\n"
   ]
  },
  {
   "cell_type": "code",
   "execution_count": null,
   "metadata": {},
   "outputs": [],
   "source": [
    "question.ex12_a()"
   ]
  },
  {
   "cell_type": "code",
   "execution_count": null,
   "metadata": {},
   "outputs": [],
   "source": [
    "question.ex12_b()"
   ]
  },
  {
   "cell_type": "code",
   "execution_count": null,
   "metadata": {},
   "outputs": [],
   "source": [
    "question.ex12_c()"
   ]
  },
  {
   "cell_type": "markdown",
   "metadata": {},
   "source": [
    "d) Quel est le rôle de cette fonction ?<br>\n"
   ]
  },
  {
   "cell_type": "code",
   "execution_count": null,
   "metadata": {},
   "outputs": [],
   "source": [
    "#à compléter"
   ]
  },
  {
   "cell_type": "code",
   "execution_count": null,
   "metadata": {},
   "outputs": [],
   "source": [
    "solution.ex12_d()"
   ]
  },
  {
   "cell_type": "markdown",
   "metadata": {},
   "source": [
    "<span style=\"color:green;\"><strong> <i><u>Exercice 13</u> :</i> </strong></span><br>\n",
    "Rédigez une fonction renvoyant le périmètre et l'aire d'un disque de rayon donné.<br>\n"
   ]
  },
  {
   "cell_type": "code",
   "execution_count": null,
   "metadata": {},
   "outputs": [],
   "source": [
    "#à compléter"
   ]
  },
  {
   "cell_type": "code",
   "execution_count": null,
   "metadata": {},
   "outputs": [],
   "source": [
    "solution.ex13_a()"
   ]
  },
  {
   "cell_type": "code",
   "execution_count": null,
   "metadata": {},
   "outputs": [],
   "source": [
    "solution.ex13_b()"
   ]
  },
  {
   "cell_type": "markdown",
   "metadata": {},
   "source": [
    "créer une variable 'age'<br>\n",
    "créer une variable <span style=\"font-family:Courier New;font-size: 100%;\">age</span><br>\n",
    "recopier le code suivant<br>\n",
    "<code>age=input(\"ton âge ?\")<br>if age>18 :<br>&nbsp;&nbsp;&nbsp;&nbsp;print(\"majeur\")<br>else:<br>&nbsp;&nbsp;&nbsp;&nbsp;print(\"mineur\")<br></code><br>\n",
    "<span style=\"text-decoration: underline;color:green;\">insertion d'une image</span><span style=\"color:green;\"> :</span><br>\n",
    "<img src = \"mes_images/ex7a.png\" width= \"100px\"><br>\n"
   ]
  },
  {
   "cell_type": "markdown",
   "metadata": {},
   "source": [
    "# <div style = \"text-align : center;\"><span style=\"border: 2px solid;padding:6px;color:red;\">bonjour</span></div> # \n",
    "\n",
    "## bonjour ##\n",
    "### bonjour ###\n",
    "## <span style=\"text-decoration: underline;color:red;\">I. Généralités</span> ##\n",
    "### <span style=\"text-decoration: underline;color:green;\">1. Fonctions</span> ###\n",
    "#### <span style=\"text-decoration: underline;color:blue;\">a. définition</span> ####\n"
   ]
  }
 ],
 "metadata": {
  "kernelspec": {
   "display_name": "Python 3",
   "language": "python",
   "name": "python3"
  },
  "language_info": {
   "codemirror_mode": {
    "name": "ipython",
    "version": 3
   },
   "file_extension": ".py",
   "mimetype": "text/x-python",
   "name": "python",
   "nbconvert_exporter": "python",
   "pygments_lexer": "ipython3",
   "version": "3.7.6"
  }
 },
 "nbformat": 4,
 "nbformat_minor": 5
}
